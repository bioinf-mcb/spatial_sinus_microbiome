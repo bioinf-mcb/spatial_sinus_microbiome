{
 "cells": [
  {
   "cell_type": "code",
   "execution_count": 1,
   "id": "2924e14c",
   "metadata": {},
   "outputs": [
    {
     "name": "stderr",
     "output_type": "stream",
     "text": [
      "/home/MCB/vbezshapkin/miniconda3/envs/qiime2/lib/python3.8/site-packages/tqdm/auto.py:22: TqdmWarning: IProgress not found. Please update jupyter and ipywidgets. See https://ipywidgets.readthedocs.io/en/stable/user_install.html\n",
      "  from .autonotebook import tqdm as notebook_tqdm\n"
     ]
    }
   ],
   "source": [
    "import os\n",
    "import pandas as pd\n",
    "from qiime2 import Artifact, Metadata, Visualization\n",
    "\n",
    "from qiime2.plugins import (\n",
    "    metadata, \n",
    "    feature_table, \n",
    "    diversity,\n",
    "    emperor\n",
    ")\n",
    "\n",
    "%matplotlib inline"
   ]
  },
  {
   "cell_type": "code",
   "execution_count": 2,
   "id": "ccdef2c5",
   "metadata": {},
   "outputs": [],
   "source": [
    "workdir = \"/storage/TomaszLab/vbez/sinus-microbiota/picrust-analysis\""
   ]
  },
  {
   "cell_type": "code",
   "execution_count": 9,
   "id": "d3eaab5a",
   "metadata": {},
   "outputs": [
    {
     "name": "stdout",
     "output_type": "stream",
     "text": [
      "/storage/TomaszLab/vbez/sinus-microbiota/picrust-analysis\n"
     ]
    }
   ],
   "source": [
    "%cd $workdir"
   ]
  },
  {
   "cell_type": "code",
   "execution_count": 3,
   "id": "fad0c0f0",
   "metadata": {},
   "outputs": [],
   "source": [
    "os.makedirs(\"visualizations\", exist_ok=True)\n",
    "os.makedirs(\"results\", exist_ok=True)\n",
    "os.makedirs(\"intermediate_artifacts\", exist_ok=True)"
   ]
  },
  {
   "cell_type": "code",
   "execution_count": 4,
   "id": "4dea0408",
   "metadata": {},
   "outputs": [],
   "source": [
    "feature_dir = \"./picrust_artifacts/\"\n",
    "vis_dir = \"./visualizations/\"\n",
    "res_dir = \"./results/\""
   ]
  },
  {
   "cell_type": "code",
   "execution_count": 18,
   "id": "bb0493d2",
   "metadata": {},
   "outputs": [],
   "source": [
    "# converting PICRUSt2 output to a suitable format \n",
    "for _, _, filenames in os.walk(feature_dir):\n",
    "    for filename in filenames:\n",
    "        if filename.endswith(\".tsv\"):\n",
    "            name, _ = filename.split(\".\")\n",
    "            os.system(f\"biom convert -i {feature_dir + filename} -o {feature_dir + name}.biom --to-hdf5\")"
   ]
  },
  {
   "cell_type": "code",
   "execution_count": 6,
   "id": "a482e6bf",
   "metadata": {},
   "outputs": [],
   "source": [
    "# Replaced \"not collected\" & \"not applicable\" with NA \n",
    "sample_metadata = Metadata.load('metadata_types_corrected.tsv')  \n",
    "metric = \"braycurtis\"\n",
    "\n",
    "# Selecting columns of interest from metadata\n",
    "cat_cols = [\"host_body_site\", \"maxillary_ostium_size\"]"
   ]
  },
  {
   "cell_type": "code",
   "execution_count": null,
   "id": "d288340b",
   "metadata": {},
   "outputs": [],
   "source": [
    "for _, _, filenames in os.walk(feature_dir):\n",
    "    for filename in filenames:\n",
    "        if filename.endswith(\".biom\"):\n",
    "            picrust_out_type = filename.split(\"_\")[0]\n",
    "            os.makedirs(os.path.join(res_dir, picrust_out_type), exist_ok=True)\n",
    "            \n",
    "            feat_table = Artifact.import_data(\"FeatureTable[Frequency]\", feature_dir + filename)\n",
    "\n",
    "            # Creating PCoA Emperor plots for every feature table and every metric\n",
    "            dist_matrix = diversity.pipelines.beta(feat_table, metric=metric)\n",
    "            dist_matrix.distance_matrix.save(intermediate_dir + \"_\".join([picrust_out_type, metric, \"dis_matrix\"]) + \".qza\")\n",
    "\n",
    "            pcoa_results = diversity.methods.pcoa(dist_matrix.distance_matrix)\n",
    "            pcoa_results.pcoa.save(intermediate_dir + \"_\".join([picrust_out_type, metric, \"pcoa\"]) + \".qza\")\n",
    "\n",
    "            pcoa_emperor = emperor.visualizers.plot(pcoa_results.pcoa, metadata=sample_metadata)\n",
    "            pcoa_emperor.visualization.save(vis_dir + \"_\".join([picrust_out_type, metric, \"pcoa_emperor\"]) + \".qzv\")\n",
    "               \n",
    "            # Testing PERMANOVA\n",
    "            permanova = diversity.visualizers.beta_group_significance(dist_matrix.distance_matrix, \n",
    "                                                                      metadata=sample_metadata.get_column(cat),\n",
    "                                                                      method=\"permanova\", \n",
    "                                                                      pairwise=True, \n",
    "                                                                      permutations=9999)\n",
    "\n",
    "            savepath = os.path.join(res_dir, picrust_out_type, \"_\".join([metric, \"permanova\", cat]) + \".qzv\")\n",
    "            permanova.visualization.save(savepath)"
   ]
  }
 ],
 "metadata": {
  "kernelspec": {
   "display_name": "qiime2",
   "language": "python",
   "name": "qiime2"
  },
  "language_info": {
   "codemirror_mode": {
    "name": "ipython",
    "version": 3
   },
   "file_extension": ".py",
   "mimetype": "text/x-python",
   "name": "python",
   "nbconvert_exporter": "python",
   "pygments_lexer": "ipython3",
   "version": "3.8.13"
  }
 },
 "nbformat": 4,
 "nbformat_minor": 5
}
