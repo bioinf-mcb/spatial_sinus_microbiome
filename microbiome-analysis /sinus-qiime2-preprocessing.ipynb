{
 "cells": [
  {
   "cell_type": "code",
   "execution_count": 19,
   "id": "105b7a80-358d-4af8-b5aa-c853085a5b3b",
   "metadata": {},
   "outputs": [],
   "source": [
    "import os\n",
    "import qiime2\n",
    "import skbio\n",
    "\n",
    "import numpy as np\n",
    "import pandas as pd\n",
    "\n",
    "from tempfile import mkdtemp\n",
    "from qiime2.plugins import (demux, dada2, phylogeny, metadata, fragment_insertion, diversity, \n",
    "                            feature_table, feature_classifier, taxa, composition\n",
    "                           )\n",
    "from qiime2 import Artifact, Metadata, Visualization"
   ]
  },
  {
   "cell_type": "code",
   "execution_count": 4,
   "id": "6af58e15-1a0d-4286-8b17-5871bf300c03",
   "metadata": {},
   "outputs": [],
   "source": [
    "# Create separate directories for results to avoid confusion\n",
    "art_dir = \"./artifacts/\"\n",
    "vis_dir = \"./visualizations/\"\n",
    "res_dir = \"./results/\"\n",
    "tab_dir = \"./tables/\"\n",
    "\n",
    "for name in [\"artifacts\", \"visualizations\", \"results\", \"tables\"]:\n",
    "    os.makedirs(name, exist_ok=True)"
   ]
  },
  {
   "cell_type": "code",
   "execution_count": 4,
   "id": "648575cf-a47f-403a-ae08-694cd383f6cc",
   "metadata": {},
   "outputs": [],
   "source": [
    "workdir=''"
   ]
  },
  {
   "cell_type": "code",
   "execution_count": 5,
   "id": "7f5af632-1b2e-41c1-b601-1158a80a14a4",
   "metadata": {},
   "outputs": [],
   "source": [
    "!cd $workdir"
   ]
  },
  {
   "cell_type": "markdown",
   "id": "d6bd11c8-ea96-44cb-a5f9-350149cc57e1",
   "metadata": {},
   "source": [
    "This analysis is conducted using `QIIME2` version `2022.2.0`\n",
    "# 1. Import raw demultiplexed data as a Qiime2 artifact\n",
    "We receved already demultiplexed sequences from the lab, therefore we are skipping demultiplication and load data as a `QIIME2` artefact."
   ]
  },
  {
   "cell_type": "code",
   "execution_count": null,
   "id": "08dfab88-0356-4330-980a-61f7af8c2907",
   "metadata": {},
   "outputs": [],
   "source": [
    "merged_sequences = qiime2.Artifact.import_data('SampleData[SequencesWithQuality]', \n",
    "                                               \"./dada2-sinus-manifest-file.csv,  \n",
    "                                               view_type='PairedEndFastqManifestPhred33V2')"
   ]
  },
  {
   "cell_type": "code",
   "execution_count": null,
   "id": "a08a9965-a3ab-420b-a5e8-52e9b3863b31",
   "metadata": {},
   "outputs": [],
   "source": [
    "merged_sequences.save(os.path.join(art_dir, 'paired_end_sequences.qza'))"
   ]
  },
  {
   "cell_type": "code",
   "execution_count": 5,
   "id": "4569f728-54ac-48b1-a4ab-a932f014b251",
   "metadata": {},
   "outputs": [],
   "source": [
    "merged_sequences = Artifact.load(os.path.join(art_dir, 'paired_end_sequences.qza'))"
   ]
  },
  {
   "cell_type": "markdown",
   "id": "05b04f3a-f534-4ead-a80a-8d1ef0816c9a",
   "metadata": {},
   "source": [
    "# 2. Demultiplexing summary\n",
    "Next, we run `demux.summary`. It allows us to access per base quality of sequenencing.\n"
   ]
  },
  {
   "cell_type": "code",
   "execution_count": 6,
   "id": "baa0c6dc-76b9-4cc2-bdae-ee8303fd7526",
   "metadata": {},
   "outputs": [],
   "source": [
    "demux_summary = demux.visualizers.summarize(merged_sequences)"
   ]
  },
  {
   "cell_type": "code",
   "execution_count": 7,
   "id": "6e0865ac-1497-40cf-85df-94fd7a8595d0",
   "metadata": {},
   "outputs": [
    {
     "data": {
      "text/html": [
       "<div><img onload=\"(function(div, url){\n",
       "if (typeof require !== 'undefined') {\n",
       "    var baseURL = require.toUrl('').split('/').slice(0, -2).join('/');\n",
       "} else {\n",
       "    var baseURL = JSON.parse(\n",
       "        document.getElementById('jupyter-config-data').innerHTML\n",
       "    ).baseUrl.slice(0, -1);\n",
       "}\n",
       "url = baseURL + url;\n",
       "fetch(url).then(function(res) {\n",
       "    if (res.status === 404) {\n",
       "        div.innerHTML = 'Install QIIME 2 Jupyter extension with:<br />' +\n",
       "                        '<code>jupyter serverextension enable --py qiime2' +\n",
       "                        ' --sys-prefix</code><br />then restart your server.' +\n",
       "                        '<br /><br />(Interactive output not available on ' +\n",
       "                        'static notebook viewer services like nbviewer.)';\n",
       "    } else if (res.status === 409) {\n",
       "        div.innerHTML = 'Visualization no longer in scope. Re-run this cell' +\n",
       "                        ' to see the visualization.';\n",
       "    } else if (res.ok) {\n",
       "        url = res.url;\n",
       "        div.innerHTML = '<iframe src=\\'' + url + '\\' style=\\'' +\n",
       "                        'width: 100%; height: 700px; border: 0;\\'>' +\n",
       "                        '</iframe><hr />Open in a: <a href=\\'' + url + '\\'' +\n",
       "                        ' target=\\'_blank\\'>new window</a>'\n",
       "    } else {\n",
       "        div.innerHTML = 'Something has gone wrong. Check notebook server for' +\n",
       "                        ' errors.';\n",
       "    }\n",
       "});\n",
       "})(this.parentElement, '/qiime2/redirect?location=/tmp/qiime2-archive-v8aruunt')\" src=\"data:image/gif;base64,R0lGODlhAQABAIAAAP///wAAACH5BAEAAAAALAAAAAABAAEAAAICRAEAOw==\" /></div>"
      ],
      "text/plain": [
       "<visualization: Visualization uuid: 00780854-86c3-4eae-801e-b9cef2140824>"
      ]
     },
     "execution_count": 7,
     "metadata": {},
     "output_type": "execute_result"
    }
   ],
   "source": [
    "demux_summary.visualization"
   ]
  },
  {
   "cell_type": "code",
   "execution_count": 11,
   "id": "d4b079ec-5803-4e3a-8c1a-b5790fb27378",
   "metadata": {},
   "outputs": [
    {
     "data": {
      "text/plain": [
       "'./visualizations/demux.qzv'"
      ]
     },
     "execution_count": 11,
     "metadata": {},
     "output_type": "execute_result"
    }
   ],
   "source": [
    "demux_summary.visualization.save(os.path.join(vis_dir, 'demux.qzv')) #Visulization: Summarize counts per sample for all samples, and generate interactive\n",
    "                                                                     #positional quality plots based on `n` randomly selected sequences."
   ]
  },
  {
   "cell_type": "markdown",
   "id": "08e443ae-5a4c-4e08-b6f1-27a8a142537b",
   "metadata": {},
   "source": [
    "# 3. DADA2\n",
    "\n",
    "After demultiplication we correct Illumina sequencing errors using `DADA2` and trim low-quality nucleotides. "
   ]
  },
  {
   "cell_type": "code",
   "execution_count": 7,
   "id": "1ae8aac8-2d59-4da6-ab30-4bbed31b4de6",
   "metadata": {},
   "outputs": [],
   "source": [
    "paired_end_sequences = Artifact.load(art_dir+'merged_sequences.qza')"
   ]
  },
  {
   "cell_type": "code",
   "execution_count": 9,
   "id": "c0291fb9-29bc-48b6-a3c1-870076d249de",
   "metadata": {},
   "outputs": [
    {
     "name": "stdout",
     "output_type": "stream",
     "text": [
      "Running external command line application(s). This may print messages to stdout and/or stderr.\n",
      "The command(s) being run are below. These commands cannot be manually re-run as they will depend on temporary files that no longer exist.\n",
      "\n",
      "Command: run_dada_paired.R /tmp/tmprkt018m9/forward /tmp/tmprkt018m9/reverse /tmp/tmprkt018m9/output.tsv.biom /tmp/tmprkt018m9/track.tsv /tmp/tmprkt018m9/filt_f /tmp/tmprkt018m9/filt_r 290 250 0 0 2.0 2.0 2 12 independent consensus 4 16 1000000\n",
      "\n"
     ]
    }
   ],
   "source": [
    "paired_end_sequencesised_sequences = dada2.methods.denoise_paired(paired_end_sequences, trim_left_f = 0, trim_left_r = 0,\\\n",
    "trunc_len_f = 290, trunc_len_r = 250, n_threads = 16, min_fold_parent_over_abundance=4)"
   ]
  },
  {
   "cell_type": "code",
   "execution_count": 10,
   "id": "265ba0f2-a87f-4a07-84a1-bed992798035",
   "metadata": {},
   "outputs": [
    {
     "data": {
      "text/plain": [
       "'./artifacts/dada2_stats.qza'"
      ]
     },
     "execution_count": 10,
     "metadata": {},
     "output_type": "execute_result"
    }
   ],
   "source": [
    "dada2_denoised_sequences.table.save(art_dir+'dada2_table.qza')\n",
    "dada2_denoised_sequences.representative_sequences.save(art_dir+'dada2_rep_seqs.qza')\n",
    "dada2_denoised_sequences.denoising_stats.save(art_dir+'dada2_stats.qza')"
   ]
  },
  {
   "cell_type": "code",
   "execution_count": 11,
   "id": "39ff73f3-9640-49eb-b54f-b5516e2e06a1",
   "metadata": {},
   "outputs": [
    {
     "data": {
      "text/html": [
       "<div><img onload=\"(function(div, url){\n",
       "if (typeof require !== 'undefined') {\n",
       "    var baseURL = require.toUrl('').split('/').slice(0, -2).join('/');\n",
       "} else {\n",
       "    var baseURL = JSON.parse(\n",
       "        document.getElementById('jupyter-config-data').innerHTML\n",
       "    ).baseUrl.slice(0, -1);\n",
       "}\n",
       "url = baseURL + url;\n",
       "fetch(url).then(function(res) {\n",
       "    if (res.status === 404) {\n",
       "        div.innerHTML = 'Install QIIME 2 Jupyter extension with:<br />' +\n",
       "                        '<code>jupyter serverextension enable --py qiime2' +\n",
       "                        ' --sys-prefix</code><br />then restart your server.' +\n",
       "                        '<br /><br />(Interactive output not available on ' +\n",
       "                        'static notebook viewer services like nbviewer.)';\n",
       "    } else if (res.status === 409) {\n",
       "        div.innerHTML = 'Visualization no longer in scope. Re-run this cell' +\n",
       "                        ' to see the visualization.';\n",
       "    } else if (res.ok) {\n",
       "        url = res.url;\n",
       "        div.innerHTML = '<iframe src=\\'' + url + '\\' style=\\'' +\n",
       "                        'width: 100%; height: 700px; border: 0;\\'>' +\n",
       "                        '</iframe><hr />Open in a: <a href=\\'' + url + '\\'' +\n",
       "                        ' target=\\'_blank\\'>new window</a>'\n",
       "    } else {\n",
       "        div.innerHTML = 'Something has gone wrong. Check notebook server for' +\n",
       "                        ' errors.';\n",
       "    }\n",
       "});\n",
       "})(this.parentElement, '/qiime2/redirect?location=/tmp/qiime2-archive-hljcccq9')\" src=\"data:image/gif;base64,R0lGODlhAQABAIAAAP///wAAACH5BAEAAAAALAAAAAABAAEAAAICRAEAOw==\" /></div>"
      ],
      "text/plain": [
       "<visualization: Visualization uuid: e8b7db0c-cd29-4ad8-aa65-2a6d2a97b2db>"
      ]
     },
     "execution_count": 11,
     "metadata": {},
     "output_type": "execute_result"
    }
   ],
   "source": [
    "dada2_denoise_stats = metadata.visualizers.tabulate(Artifact.load(art_dir+\"dada2_stats.qza\").view(qiime2.Metadata))\n",
    "dada2_denoise_stats.visualization"
   ]
  },
  {
   "cell_type": "code",
   "execution_count": 12,
   "id": "82cae582-f792-4edf-970d-351d6c0ac131",
   "metadata": {},
   "outputs": [
    {
     "data": {
      "text/plain": [
       "'./visualizations/dada2_denoise_stats.qzv'"
      ]
     },
     "execution_count": 12,
     "metadata": {},
     "output_type": "execute_result"
    }
   ],
   "source": [
    "dada2_denoise_stats.visualization.save(vis_dir+'dada2_denoise_stats.qzv')"
   ]
  },
  {
   "cell_type": "markdown",
   "id": "3ec5b9cd-c3ed-401a-bad1-9ef276374b03",
   "metadata": {},
   "source": [
    "## Visualizing `FeatureTable` summary\n",
    "We visualize summary of feature table to get an idea of feature counts distribution in a study and estimate good cut-off for a rarefaction procedure. "
   ]
  },
  {
   "cell_type": "code",
   "execution_count": 14,
   "id": "550a0af0-7998-458f-b451-374a2c02a522",
   "metadata": {},
   "outputs": [],
   "source": [
    "table = Artifact.load(art_dir+\"dada2_table.qza\")"
   ]
  },
  {
   "cell_type": "code",
   "execution_count": 15,
   "id": "fae21f58-1165-4b83-a638-bd1e949f99ad",
   "metadata": {},
   "outputs": [
    {
     "data": {
      "text/html": [
       "<div><img onload=\"(function(div, url){\n",
       "if (typeof require !== 'undefined') {\n",
       "    var baseURL = require.toUrl('').split('/').slice(0, -2).join('/');\n",
       "} else {\n",
       "    var baseURL = JSON.parse(\n",
       "        document.getElementById('jupyter-config-data').innerHTML\n",
       "    ).baseUrl.slice(0, -1);\n",
       "}\n",
       "url = baseURL + url;\n",
       "fetch(url).then(function(res) {\n",
       "    if (res.status === 404) {\n",
       "        div.innerHTML = 'Install QIIME 2 Jupyter extension with:<br />' +\n",
       "                        '<code>jupyter serverextension enable --py qiime2' +\n",
       "                        ' --sys-prefix</code><br />then restart your server.' +\n",
       "                        '<br /><br />(Interactive output not available on ' +\n",
       "                        'static notebook viewer services like nbviewer.)';\n",
       "    } else if (res.status === 409) {\n",
       "        div.innerHTML = 'Visualization no longer in scope. Re-run this cell' +\n",
       "                        ' to see the visualization.';\n",
       "    } else if (res.ok) {\n",
       "        url = res.url;\n",
       "        div.innerHTML = '<iframe src=\\'' + url + '\\' style=\\'' +\n",
       "                        'width: 100%; height: 700px; border: 0;\\'>' +\n",
       "                        '</iframe><hr />Open in a: <a href=\\'' + url + '\\'' +\n",
       "                        ' target=\\'_blank\\'>new window</a>'\n",
       "    } else {\n",
       "        div.innerHTML = 'Something has gone wrong. Check notebook server for' +\n",
       "                        ' errors.';\n",
       "    }\n",
       "});\n",
       "})(this.parentElement, '/qiime2/redirect?location=/tmp/qiime2-archive-yabo5brs')\" src=\"data:image/gif;base64,R0lGODlhAQABAIAAAP///wAAACH5BAEAAAAALAAAAAABAAEAAAICRAEAOw==\" /></div>"
      ],
      "text/plain": [
       "<visualization: Visualization uuid: bcc6726a-9e9f-42a5-888c-1f20b04f4935>"
      ]
     },
     "execution_count": 15,
     "metadata": {},
     "output_type": "execute_result"
    }
   ],
   "source": [
    "summ = feature_table.visualizers.summarize(table)\n",
    "summ.visualization"
   ]
  },
  {
   "cell_type": "code",
   "execution_count": 36,
   "id": "39643f96-7a42-48d3-9fe1-d71df44d260f",
   "metadata": {},
   "outputs": [
    {
     "data": {
      "text/plain": [
       "'./visualizations/table-summary.qzv'"
      ]
     },
     "execution_count": 36,
     "metadata": {},
     "output_type": "execute_result"
    }
   ],
   "source": [
    "summ.visualization.save(vis_dir+\"table-summary.qzv\")"
   ]
  },
  {
   "cell_type": "markdown",
   "id": "2af673e1-bca3-4085-b713-c50056ed547f",
   "metadata": {},
   "source": [
    "# 4. Building phylogenetic tree using `q2-fragment-insertion`\n",
    "\n",
    "In order to access phylogenetic metrices we need to build a phylogenetic tree. We use a SEPP fragment insertion methods, as it is the method that resolves the problems with *de novo* method and yields an additional benefit working on sOTU level."
   ]
  },
  {
   "cell_type": "code",
   "execution_count": 25,
   "id": "42d9e6bc-7db8-4645-9e51-b2d582272dd5",
   "metadata": {},
   "outputs": [
    {
     "name": "stdout",
     "output_type": "stream",
     "text": [
      "--2021-09-02 12:35:49--  https://data.qiime2.org/2021.4/common/sepp-refs-silva-128.qza\n",
      "Translacja data.qiime2.org (data.qiime2.org)... 54.200.1.12\n",
      "Łączenie się z data.qiime2.org (data.qiime2.org)|54.200.1.12|:443... połączono.\n",
      "Żądanie HTTP wysłano, oczekiwanie na odpowiedź... 302 FOUND\n",
      "Lokalizacja: https://s3-us-west-2.amazonaws.com/qiime2-data/2021.4/common/sepp-refs-silva-128.qza [podążanie]\n",
      "--2021-09-02 12:35:51--  https://s3-us-west-2.amazonaws.com/qiime2-data/2021.4/common/sepp-refs-silva-128.qza\n",
      "Translacja s3-us-west-2.amazonaws.com (s3-us-west-2.amazonaws.com)... 52.218.169.176\n",
      "Łączenie się z s3-us-west-2.amazonaws.com (s3-us-west-2.amazonaws.com)|52.218.169.176|:443... połączono.\n",
      "Żądanie HTTP wysłano, oczekiwanie na odpowiedź... 200 OK\n",
      "Długość: 181253322 (173M) [binary/octet-stream]\n",
      "Zapis do: `sepp-refs-silva-128.qza'\n",
      "\n",
      "sepp-refs-silva-128 100%[===================>] 172,86M   920KB/s    w 3m 26s   \n",
      "\n",
      "2021-09-02 12:39:18 (858 KB/s) - zapisano `sepp-refs-silva-128.qza' [181253322/181253322]\n",
      "\n"
     ]
    }
   ],
   "source": [
    "# Downloading reference data from SILVA \n",
    "!wget https://data.qiime2.org/2021.4/common/sepp-refs-silva-128.qza"
   ]
  },
  {
   "cell_type": "code",
   "execution_count": null,
   "id": "bc48a996-fe01-4e17-aeac-34ca5511009d",
   "metadata": {},
   "outputs": [],
   "source": [
    "rooted_tree = fragment_insertion.methods.sepp(representative_sequences = Artifact.load(art_dir+\"dada2_rep_seqs.qza\"),\n",
    "                                              reference_database = Artifact.load(\"sepp-refs-silva-128.qza\"),\n",
    "                                              threads=20)"
   ]
  },
  {
   "cell_type": "code",
   "execution_count": null,
   "id": "ffad88a3-9405-4ff5-903e-c4458923d04d",
   "metadata": {},
   "outputs": [],
   "source": [
    "rooted_tree.tree.save(art_dir+\"SEPP_tree_rooted.qza\")"
   ]
  },
  {
   "cell_type": "markdown",
   "id": "6016b289-61b3-45ec-a4c4-31cb4c04db07",
   "metadata": {},
   "source": [
    "# 5.Bulding alpha-rarefaction curve\n",
    "To normalize samples and account for different library sizes we use rarefaction. To better undestrand the behaviour of samples under different cut-off thresholds we build a rarefaction curve using `q2-diversity`.  \n",
    "Our analysis is strongly intrested in microbiome composition within **different sinuses**, therefore we will rarefy with respect to these patient metadata.\n",
    "To achieve this we need to load metadata into the `qiime2.Metdata` object."
   ]
  },
  {
   "cell_type": "code",
   "execution_count": 16,
   "id": "aecdc1a2-b86e-4e97-ba48-c977ac3cdf74",
   "metadata": {},
   "outputs": [],
   "source": [
    "# Format metadata from QIITA for use in QIIME2\n",
    "tmp_meta = pd.read_csv(\"sinus_metadata_merged.txt\", \n",
    "                                       na_values=[\"not applicable\", \"not collected\"], \n",
    "                                       sep=\"\\t\", index_col=0).drop(columns=[\"dna_extracted\",\n",
    "                                                                            \"physical_specimen_remaining\"\n",
    "                                                                           ]).to_csv(\"processed_metdata.tsv\", sep=\"\\t\")\n",
    "\n",
    "sample_metadata = Metadata.load(\"processed_metdata.tsv\",\n",
    "                                column_types={\"host_subject_id\" : \"categorical\"})"
   ]
  },
  {
   "cell_type": "code",
   "execution_count": 17,
   "id": "14134313-0981-4091-9d4e-c2a0f829bac1",
   "metadata": {},
   "outputs": [],
   "source": [
    "# Loading a tree file\n",
    "tree = Artifact.load(art_dir+\"SEPP_tree_rooted.qza\")"
   ]
  },
  {
   "cell_type": "code",
   "execution_count": null,
   "id": "f41802e4-ec23-4e15-8f98-75f8329d566f",
   "metadata": {},
   "outputs": [],
   "source": [
    "# Building a rarefaction curve to better estimate a rarefaction cut-off\n",
    "rar = diversity.visualizers.alpha_rarefaction(table=table,\n",
    "                                              phylogeny=tree, \n",
    "                                              metadata=sample_metadata,\n",
    "                                              min_depth=4000, \n",
    "                                              max_depth=40000,\n",
    "                                              steps=90, \n",
    "                                              iterations=20)"
   ]
  },
  {
   "cell_type": "code",
   "execution_count": null,
   "id": "5aad63bd-7739-4db2-b587-66ab59f6bffb",
   "metadata": {},
   "outputs": [],
   "source": [
    "rar.visualization.save(vis_dir+\"alpha_rarefaction.qzv\")"
   ]
  },
  {
   "cell_type": "code",
   "execution_count": 20,
   "id": "d240d78e-4d23-4b16-98b9-262af615e27b",
   "metadata": {},
   "outputs": [],
   "source": [
    "vis = Visualization.load(vis_dir+\"alpha_rarefaction.qzv\")"
   ]
  },
  {
   "cell_type": "code",
   "execution_count": 21,
   "id": "5338c166-5d9f-4e2c-ae44-a90b7cedb050",
   "metadata": {},
   "outputs": [
    {
     "data": {
      "text/html": [
       "<div><img onload=\"(function(div, url){\n",
       "if (typeof require !== 'undefined') {\n",
       "    var baseURL = require.toUrl('').split('/').slice(0, -2).join('/');\n",
       "} else {\n",
       "    var baseURL = JSON.parse(\n",
       "        document.getElementById('jupyter-config-data').innerHTML\n",
       "    ).baseUrl.slice(0, -1);\n",
       "}\n",
       "url = baseURL + url;\n",
       "fetch(url).then(function(res) {\n",
       "    if (res.status === 404) {\n",
       "        div.innerHTML = 'Install QIIME 2 Jupyter extension with:<br />' +\n",
       "                        '<code>jupyter serverextension enable --py qiime2' +\n",
       "                        ' --sys-prefix</code><br />then restart your server.' +\n",
       "                        '<br /><br />(Interactive output not available on ' +\n",
       "                        'static notebook viewer services like nbviewer.)';\n",
       "    } else if (res.status === 409) {\n",
       "        div.innerHTML = 'Visualization no longer in scope. Re-run this cell' +\n",
       "                        ' to see the visualization.';\n",
       "    } else if (res.ok) {\n",
       "        url = res.url;\n",
       "        div.innerHTML = '<iframe src=\\'' + url + '\\' style=\\'' +\n",
       "                        'width: 100%; height: 700px; border: 0;\\'>' +\n",
       "                        '</iframe><hr />Open in a: <a href=\\'' + url + '\\'' +\n",
       "                        ' target=\\'_blank\\'>new window</a>'\n",
       "    } else {\n",
       "        div.innerHTML = 'Something has gone wrong. Check notebook server for' +\n",
       "                        ' errors.';\n",
       "    }\n",
       "});\n",
       "})(this.parentElement, '/qiime2/redirect?location=/tmp/qiime2-archive-o2p3oc_a')\" src=\"data:image/gif;base64,R0lGODlhAQABAIAAAP///wAAACH5BAEAAAAALAAAAAABAAEAAAICRAEAOw==\" /></div>"
      ],
      "text/plain": [
       "<visualization: Visualization uuid: e179184c-b9cd-496b-8023-3d3999b9c5ee>"
      ]
     },
     "execution_count": 21,
     "metadata": {},
     "output_type": "execute_result"
    }
   ],
   "source": [
    "vis"
   ]
  },
  {
   "cell_type": "markdown",
   "id": "4356288b-26f6-47ce-8d14-280edc1205b7",
   "metadata": {},
   "source": [
    "# 6. Rarefaction of samples\n",
    "\n",
    "After studying the rarefaction curve we proceed with rarefaction of the samples."
   ]
  },
  {
   "cell_type": "code",
   "execution_count": 13,
   "id": "daa8622f-d915-4d86-854e-f3572e3597b0",
   "metadata": {},
   "outputs": [],
   "source": [
    "rarefied = feature_table.methods.rarefy(table=table, \n",
    "                                        sampling_depth=20504,\n",
    "                                        with_replacement=False)"
   ]
  },
  {
   "cell_type": "code",
   "execution_count": 14,
   "id": "aee35b63-16f6-4d0b-bf17-094d86fd74ae",
   "metadata": {},
   "outputs": [
    {
     "data": {
      "text/plain": [
       "'./artifacts/dada2_table_rar_20504.qza'"
      ]
     },
     "execution_count": 14,
     "metadata": {},
     "output_type": "execute_result"
    }
   ],
   "source": [
    "rarefied.rarefied_table.save(art_dir+\"dada2_table_rar_20504.qza\")"
   ]
  },
  {
   "cell_type": "markdown",
   "id": "74e80786-c8ac-4230-babe-57d9289fefed",
   "metadata": {},
   "source": [
    "# 7. Beta-diversity analysis"
   ]
  },
  {
   "cell_type": "code",
   "execution_count": 22,
   "id": "2fcca4ee-ade9-47ca-b36b-23e7fdf24088",
   "metadata": {},
   "outputs": [],
   "source": [
    "rar_table = Artifact.load(art_dir+\"dada2_table_rar_20504.qza\")"
   ]
  },
  {
   "cell_type": "code",
   "execution_count": 29,
   "id": "a52d7a2a-48e8-4ede-9994-6a68fce3c3a3",
   "metadata": {},
   "outputs": [
    {
     "data": {
      "text/plain": [
       "'./artifacts/wuni_dis_matrix.qza'"
      ]
     },
     "execution_count": 29,
     "metadata": {},
     "output_type": "execute_result"
    }
   ],
   "source": [
    "# getting different distance matrices\n",
    "# Bray-Curtis\n",
    "braycurtis = diversity.pipelines.beta(rar_table, metric=\"braycurtis\").distance_matrix\n",
    "braycurtis.save(art_dir+\"braycurtis_dis_matrix\" + \".qza\")\n",
    "# Weighted UniFrac\n",
    "wuni = diversity.pipelines.beta_phylogenetic(rar_table, metric=\"weighted_unifrac\", \n",
    "                                             phylogeny=tree).distance_matrix\n",
    "wuni.save(art_dir+\"wuni_dis_matrix\" + \".qza\")"
   ]
  },
  {
   "cell_type": "markdown",
   "id": "f1882b9d-0313-4c75-b8cd-80c9d7fe5ee6",
   "metadata": {},
   "source": [
    "## 7.1. Comparison of different sampling sites - `host_body_site`"
   ]
  },
  {
   "cell_type": "code",
   "execution_count": 32,
   "id": "15e9c2bd-3c0f-4c3a-b0f8-1c78ecf125e1",
   "metadata": {},
   "outputs": [],
   "source": [
    "permanova = diversity.visualizers.beta_group_significance(distance_matrix=Artifact.load(art_dir + \"braycurtis_dis_matrix\" + \".qza\"), \n",
    "                                                          metadata=sample_metadata.get_column(\"host_body_site\"),\n",
    "                                                          method=\"permanova\", \n",
    "                                                          pairwise=True, \n",
    "                                                          permutations=9999)\n",
    "permanova.visualization"
   ]
  },
  {
   "cell_type": "code",
   "execution_count": 34,
   "id": "db7d4efe-c507-435f-bb16-d9ff8dce1ec6",
   "metadata": {},
   "outputs": [
    {
     "data": {
      "text/plain": [
       "'./visualizations/permanova_host_body_site_bc.qzv'"
      ]
     },
     "execution_count": 34,
     "metadata": {},
     "output_type": "execute_result"
    }
   ],
   "source": [
    "permanova.visualization.save(vis_dir + \"permanova_host_body_site_bc.qzv\")"
   ]
  },
  {
   "cell_type": "code",
   "execution_count": 35,
   "id": "45551270-ffc3-4c64-a406-b5f7270f090b",
   "metadata": {},
   "outputs": [
    {
     "data": {
      "text/html": [
       "<div><img onload=\"(function(div, url){\n",
       "if (typeof require !== 'undefined') {\n",
       "    var baseURL = require.toUrl('').split('/').slice(0, -2).join('/');\n",
       "} else {\n",
       "    var baseURL = JSON.parse(\n",
       "        document.getElementById('jupyter-config-data').innerHTML\n",
       "    ).baseUrl.slice(0, -1);\n",
       "}\n",
       "url = baseURL + url;\n",
       "fetch(url).then(function(res) {\n",
       "    if (res.status === 404) {\n",
       "        div.innerHTML = 'Install QIIME 2 Jupyter extension with:<br />' +\n",
       "                        '<code>jupyter serverextension enable --py qiime2' +\n",
       "                        ' --sys-prefix</code><br />then restart your server.' +\n",
       "                        '<br /><br />(Interactive output not available on ' +\n",
       "                        'static notebook viewer services like nbviewer.)';\n",
       "    } else if (res.status === 409) {\n",
       "        div.innerHTML = 'Visualization no longer in scope. Re-run this cell' +\n",
       "                        ' to see the visualization.';\n",
       "    } else if (res.ok) {\n",
       "        url = res.url;\n",
       "        div.innerHTML = '<iframe src=\\'' + url + '\\' style=\\'' +\n",
       "                        'width: 100%; height: 700px; border: 0;\\'>' +\n",
       "                        '</iframe><hr />Open in a: <a href=\\'' + url + '\\'' +\n",
       "                        ' target=\\'_blank\\'>new window</a>'\n",
       "    } else {\n",
       "        div.innerHTML = 'Something has gone wrong. Check notebook server for' +\n",
       "                        ' errors.';\n",
       "    }\n",
       "});\n",
       "})(this.parentElement, '/qiime2/redirect?location=/tmp/qiime2-archive-la6gh_mk')\" src=\"data:image/gif;base64,R0lGODlhAQABAIAAAP///wAAACH5BAEAAAAALAAAAAABAAEAAAICRAEAOw==\" /></div>"
      ],
      "text/plain": [
       "<visualization: Visualization uuid: 3b2e67a6-0b59-4391-a008-2c3436f5374f>"
      ]
     },
     "execution_count": 35,
     "metadata": {},
     "output_type": "execute_result"
    }
   ],
   "source": [
    "permanova = diversity.visualizers.beta_group_significance(distance_matrix=Artifact.load(art_dir + \"wuni_dis_matrix\" + \".qza\"), \n",
    "                                                          metadata=sample_metadata.get_column(\"host_body_site\"),\n",
    "                                                          method=\"permanova\", \n",
    "                                                          pairwise=True, \n",
    "                                                          permutations=9999)\n",
    "permanova.visualization"
   ]
  },
  {
   "cell_type": "code",
   "execution_count": 36,
   "id": "9886653b-d6ac-419a-ae69-cbb2ade72fdd",
   "metadata": {},
   "outputs": [
    {
     "data": {
      "text/plain": [
       "'./visualizations/permanova_host_body_site_wuni.qzv'"
      ]
     },
     "execution_count": 36,
     "metadata": {},
     "output_type": "execute_result"
    }
   ],
   "source": [
    "permanova.visualization.save(vis_dir + \"permanova_host_body_site_wuni.qzv\")"
   ]
  },
  {
   "cell_type": "markdown",
   "id": "6fbb3fde-db33-4a3e-818a-2c69b2ef0f1a",
   "metadata": {},
   "source": [
    "## 7.2 Comparison of different ostium conditions - `maxillary_ostium_patency`"
   ]
  },
  {
   "cell_type": "code",
   "execution_count": 38,
   "id": "089efd67-0f28-4eba-8b7a-554a31662ac9",
   "metadata": {},
   "outputs": [
    {
     "data": {
      "text/html": [
       "<div><img onload=\"(function(div, url){\n",
       "if (typeof require !== 'undefined') {\n",
       "    var baseURL = require.toUrl('').split('/').slice(0, -2).join('/');\n",
       "} else {\n",
       "    var baseURL = JSON.parse(\n",
       "        document.getElementById('jupyter-config-data').innerHTML\n",
       "    ).baseUrl.slice(0, -1);\n",
       "}\n",
       "url = baseURL + url;\n",
       "fetch(url).then(function(res) {\n",
       "    if (res.status === 404) {\n",
       "        div.innerHTML = 'Install QIIME 2 Jupyter extension with:<br />' +\n",
       "                        '<code>jupyter serverextension enable --py qiime2' +\n",
       "                        ' --sys-prefix</code><br />then restart your server.' +\n",
       "                        '<br /><br />(Interactive output not available on ' +\n",
       "                        'static notebook viewer services like nbviewer.)';\n",
       "    } else if (res.status === 409) {\n",
       "        div.innerHTML = 'Visualization no longer in scope. Re-run this cell' +\n",
       "                        ' to see the visualization.';\n",
       "    } else if (res.ok) {\n",
       "        url = res.url;\n",
       "        div.innerHTML = '<iframe src=\\'' + url + '\\' style=\\'' +\n",
       "                        'width: 100%; height: 700px; border: 0;\\'>' +\n",
       "                        '</iframe><hr />Open in a: <a href=\\'' + url + '\\'' +\n",
       "                        ' target=\\'_blank\\'>new window</a>'\n",
       "    } else {\n",
       "        div.innerHTML = 'Something has gone wrong. Check notebook server for' +\n",
       "                        ' errors.';\n",
       "    }\n",
       "});\n",
       "})(this.parentElement, '/qiime2/redirect?location=/tmp/qiime2-archive-nfnklubp')\" src=\"data:image/gif;base64,R0lGODlhAQABAIAAAP///wAAACH5BAEAAAAALAAAAAABAAEAAAICRAEAOw==\" /></div>"
      ],
      "text/plain": [
       "<visualization: Visualization uuid: 5a67c8af-4506-4f47-acab-938813d0346e>"
      ]
     },
     "execution_count": 38,
     "metadata": {},
     "output_type": "execute_result"
    }
   ],
   "source": [
    "permanova = diversity.visualizers.beta_group_significance(distance_matrix=Artifact.load(art_dir + \"braycurtis_dis_matrix\" + \".qza\"), \n",
    "                                                          metadata=sample_metadata.get_column(\"maxillary_ostium_size\"),\n",
    "                                                          method=\"permanova\", \n",
    "                                                          pairwise=True, \n",
    "                                                          permutations=9999)\n",
    "permanova.visualization"
   ]
  },
  {
   "cell_type": "code",
   "execution_count": 40,
   "id": "11a2e2f6-4edd-4d13-9d31-dc3c6d06c5bd",
   "metadata": {},
   "outputs": [
    {
     "data": {
      "text/plain": [
       "'./visualizations/permanova_maxillary_ostium_size_bc.qzv'"
      ]
     },
     "execution_count": 40,
     "metadata": {},
     "output_type": "execute_result"
    }
   ],
   "source": [
    "permanova.visualization.save(vis_dir + \"permanova_maxillary_ostium_size_bc.qzv\")"
   ]
  },
  {
   "cell_type": "code",
   "execution_count": 41,
   "id": "fcfa158a-d9ea-4ebd-b0b5-1f7326233bca",
   "metadata": {},
   "outputs": [
    {
     "data": {
      "text/html": [
       "<div><img onload=\"(function(div, url){\n",
       "if (typeof require !== 'undefined') {\n",
       "    var baseURL = require.toUrl('').split('/').slice(0, -2).join('/');\n",
       "} else {\n",
       "    var baseURL = JSON.parse(\n",
       "        document.getElementById('jupyter-config-data').innerHTML\n",
       "    ).baseUrl.slice(0, -1);\n",
       "}\n",
       "url = baseURL + url;\n",
       "fetch(url).then(function(res) {\n",
       "    if (res.status === 404) {\n",
       "        div.innerHTML = 'Install QIIME 2 Jupyter extension with:<br />' +\n",
       "                        '<code>jupyter serverextension enable --py qiime2' +\n",
       "                        ' --sys-prefix</code><br />then restart your server.' +\n",
       "                        '<br /><br />(Interactive output not available on ' +\n",
       "                        'static notebook viewer services like nbviewer.)';\n",
       "    } else if (res.status === 409) {\n",
       "        div.innerHTML = 'Visualization no longer in scope. Re-run this cell' +\n",
       "                        ' to see the visualization.';\n",
       "    } else if (res.ok) {\n",
       "        url = res.url;\n",
       "        div.innerHTML = '<iframe src=\\'' + url + '\\' style=\\'' +\n",
       "                        'width: 100%; height: 700px; border: 0;\\'>' +\n",
       "                        '</iframe><hr />Open in a: <a href=\\'' + url + '\\'' +\n",
       "                        ' target=\\'_blank\\'>new window</a>'\n",
       "    } else {\n",
       "        div.innerHTML = 'Something has gone wrong. Check notebook server for' +\n",
       "                        ' errors.';\n",
       "    }\n",
       "});\n",
       "})(this.parentElement, '/qiime2/redirect?location=/tmp/qiime2-archive-96mnc8g7')\" src=\"data:image/gif;base64,R0lGODlhAQABAIAAAP///wAAACH5BAEAAAAALAAAAAABAAEAAAICRAEAOw==\" /></div>"
      ],
      "text/plain": [
       "<visualization: Visualization uuid: d86b2f9b-beee-441a-a063-0bbce97fd568>"
      ]
     },
     "execution_count": 41,
     "metadata": {},
     "output_type": "execute_result"
    }
   ],
   "source": [
    "permanova = diversity.visualizers.beta_group_significance(distance_matrix=Artifact.load(art_dir + \"wuni_dis_matrix\" + \".qza\"), \n",
    "                                                          metadata=sample_metadata.get_column(\"maxillary_ostium_size\"),\n",
    "                                                          method=\"permanova\", \n",
    "                                                          pairwise=True, \n",
    "                                                          permutations=9999)\n",
    "permanova.visualization"
   ]
  },
  {
   "cell_type": "code",
   "execution_count": 43,
   "id": "b2f1f938-27c4-4e5a-8366-4b468f671f37",
   "metadata": {},
   "outputs": [
    {
     "data": {
      "text/plain": [
       "'permanova_maxillary_ostium_size_bc.qzv'"
      ]
     },
     "execution_count": 43,
     "metadata": {},
     "output_type": "execute_result"
    }
   ],
   "source": [
    "permanova.visualization.save(vis_dir + \"permanova_maxillary_ostium_size_bc.qzv\")"
   ]
  },
  {
   "cell_type": "markdown",
   "id": "29f9ef5a-bf80-45af-a3d1-c706d1d90988",
   "metadata": {},
   "source": [
    "## 7.3. Adonis"
   ]
  },
  {
   "cell_type": "code",
   "execution_count": 45,
   "id": "fa241abe-e3e5-48fb-96bd-5e92380d2e73",
   "metadata": {},
   "outputs": [
    {
     "name": "stdout",
     "output_type": "stream",
     "text": [
      "Running external command line application. This may print messages to stdout and/or stderr.\n",
      "The command being run is below. This command cannot be manually re-run as it will depend on temporary files that no longer exist.\n",
      "\n",
      "Command: run_adonis.R /tmp/tmptmnsvcb3/dm.tsv /tmp/tmptmnsvcb3/md.tsv host_body_site * host_subject_id 9999 1 /tmp/qiime2-temp-z5vq6t8x/adonis.tsv\n",
      "\n",
      "R version 4.1.3 (2022-03-10) \n"
     ]
    },
    {
     "name": "stderr",
     "output_type": "stream",
     "text": [
      "Loading required package: permute\n",
      "Loading required package: lattice\n",
      "This is vegan 2.5-7\n"
     ]
    },
    {
     "data": {
      "text/html": [
       "<div><img onload=\"(function(div, url){\n",
       "if (typeof require !== 'undefined') {\n",
       "    var baseURL = require.toUrl('').split('/').slice(0, -2).join('/');\n",
       "} else {\n",
       "    var baseURL = JSON.parse(\n",
       "        document.getElementById('jupyter-config-data').innerHTML\n",
       "    ).baseUrl.slice(0, -1);\n",
       "}\n",
       "url = baseURL + url;\n",
       "fetch(url).then(function(res) {\n",
       "    if (res.status === 404) {\n",
       "        div.innerHTML = 'Install QIIME 2 Jupyter extension with:<br />' +\n",
       "                        '<code>jupyter serverextension enable --py qiime2' +\n",
       "                        ' --sys-prefix</code><br />then restart your server.' +\n",
       "                        '<br /><br />(Interactive output not available on ' +\n",
       "                        'static notebook viewer services like nbviewer.)';\n",
       "    } else if (res.status === 409) {\n",
       "        div.innerHTML = 'Visualization no longer in scope. Re-run this cell' +\n",
       "                        ' to see the visualization.';\n",
       "    } else if (res.ok) {\n",
       "        url = res.url;\n",
       "        div.innerHTML = '<iframe src=\\'' + url + '\\' style=\\'' +\n",
       "                        'width: 100%; height: 700px; border: 0;\\'>' +\n",
       "                        '</iframe><hr />Open in a: <a href=\\'' + url + '\\'' +\n",
       "                        ' target=\\'_blank\\'>new window</a>'\n",
       "    } else {\n",
       "        div.innerHTML = 'Something has gone wrong. Check notebook server for' +\n",
       "                        ' errors.';\n",
       "    }\n",
       "});\n",
       "})(this.parentElement, '/qiime2/redirect?location=/tmp/qiime2-archive-7cwkhieq')\" src=\"data:image/gif;base64,R0lGODlhAQABAIAAAP///wAAACH5BAEAAAAALAAAAAABAAEAAAICRAEAOw==\" /></div>"
      ],
      "text/plain": [
       "<visualization: Visualization uuid: 5c012dff-ce81-4121-a613-590f9fdc80c2>"
      ]
     },
     "execution_count": 45,
     "metadata": {},
     "output_type": "execute_result"
    }
   ],
   "source": [
    "# ADONIS sample_id tweaking due to R error\n",
    "# described in detail https://forum.qiime2.org/t/vegan-error-in-diversity-adonis-qiime2-api/20635\n",
    "meta = pd.read_csv(\"sinus_metadata_merged.txt\", sep=\"\\t\", index_col=0)\n",
    "meta.columns = meta.columns.str.replace(\".\", \"_\", regex=True)\n",
    "meta.index = meta.index.str.replace(\".\", \"_\", regex=True)\n",
    "meta = meta.applymap(lambda x: x.strip() if isinstance(x, str) else x)\n",
    "adonis_metadata = Metadata(meta)\n",
    "\n",
    "filename = \"braycurtis_dis_matrix.qza\"\n",
    "dis_matrix = Artifact.load(art_dir+filename).view(skbio.DistanceMatrix).to_data_frame()\n",
    "dis_matrix.columns = dis_matrix.columns.str.replace(\".\", \"_\", regex=True)\n",
    "dis_matrix.index = dis_matrix.index.str.replace(\".\", \"_\", regex=True) \n",
    "dis_art = Artifact.import_data(\"DistanceMatrix\", skbio.DistanceMatrix(dis_matrix, ids=dis_matrix.index))\n",
    "ad = diversity.visualizers.adonis(dis_art, \n",
    "                                  metadata=adonis_metadata,\n",
    "                                  formula=\"host_body_site * host_subject_id\",\n",
    "                                  permutations=9999\n",
    "                                  )\n",
    "ad.visualization"
   ]
  },
  {
   "cell_type": "code",
   "execution_count": 50,
   "id": "4a0dc97b-6901-43f5-9ce9-c4c145644ea5",
   "metadata": {},
   "outputs": [
    {
     "data": {
      "text/plain": [
       "'./visualizations/adonis_bc.qzv'"
      ]
     },
     "execution_count": 50,
     "metadata": {},
     "output_type": "execute_result"
    }
   ],
   "source": [
    "ad.visualization.save(vis_dir + \"adonis_bc.qzv\")"
   ]
  },
  {
   "cell_type": "markdown",
   "id": "151cc105-93bc-417b-a64e-abf1e475a38e",
   "metadata": {},
   "source": [
    "# 8. Taxonomical analysis\n",
    "To classify reads and assign taxonomy to them we used a classifier trained with or region of interes using `RESCRIPt`.   \n",
    " A detailed tutorial on how to do this may be found on [QIIME2 Forum](https://forum.qiime2.org/t/processing-filtering-and-evaluating-the-silva-database-and-other-reference-sequence-data-with-rescript/15494).\n"
   ]
  },
  {
   "cell_type": "code",
   "execution_count": 64,
   "id": "6944f4df-7e7a-4f2a-8308-6636d80d902e",
   "metadata": {},
   "outputs": [],
   "source": [
    "tax = feature_classifier.methods.classify_sklearn(reads = rep_seqs, \n",
    "                                                  classifier = Artifact.load(\"./artifacts/silva-138-ssu-nr99-reg-of-int-classifier.qza\"),\n",
    "                                                  n_jobs=-2)"
   ]
  },
  {
   "cell_type": "code",
   "execution_count": 65,
   "id": "bcd341f7-2dba-4d92-83cb-4dde982fe394",
   "metadata": {},
   "outputs": [
    {
     "data": {
      "text/plain": [
       "'./artifacts/tax-reg-of-int.qza'"
      ]
     },
     "execution_count": 65,
     "metadata": {},
     "output_type": "execute_result"
    }
   ],
   "source": [
    "tax.classification.save(art_dir + \"tax-reg-of-int.qza\")"
   ]
  },
  {
   "cell_type": "code",
   "execution_count": 68,
   "id": "b5e4e150-d039-4971-8e0c-c9278c6a9d3d",
   "metadata": {},
   "outputs": [],
   "source": [
    "barp = taxa.visualizers.barplot(table=Artifact.load(art_dir + \"dada2_table_rar_20504.qza\"),\n",
    "                                taxonomy = Artifact.load(art_dir + \"tax-reg-of-int.qza\"), \n",
    "                                metadata=sample_metadata)"
   ]
  },
  {
   "cell_type": "code",
   "execution_count": 69,
   "id": "fc337cc6-2fb5-4477-a21c-6eb62154af7e",
   "metadata": {},
   "outputs": [
    {
     "data": {
      "text/plain": [
       "'./visualizations/taxa_barplot_reg_of_int.qzv'"
      ]
     },
     "execution_count": 69,
     "metadata": {},
     "output_type": "execute_result"
    }
   ],
   "source": [
    "barp.visualization.save(vis_dir+\"taxa_barplot_reg_of_int.qzv\")"
   ]
  },
  {
   "cell_type": "code",
   "execution_count": 71,
   "id": "a1df040a-2d32-444a-abe1-1b79853bd223",
   "metadata": {},
   "outputs": [
    {
     "data": {
      "text/html": [
       "<div><img onload=\"(function(div, url){\n",
       "if (typeof require !== 'undefined') {\n",
       "    var baseURL = require.toUrl('').split('/').slice(0, -2).join('/');\n",
       "} else {\n",
       "    var baseURL = JSON.parse(\n",
       "        document.getElementById('jupyter-config-data').innerHTML\n",
       "    ).baseUrl.slice(0, -1);\n",
       "}\n",
       "url = baseURL + url;\n",
       "fetch(url).then(function(res) {\n",
       "    if (res.status === 404) {\n",
       "        div.innerHTML = 'Install QIIME 2 Jupyter extension with:<br />' +\n",
       "                        '<code>jupyter serverextension enable --py qiime2' +\n",
       "                        ' --sys-prefix</code><br />then restart your server.' +\n",
       "                        '<br /><br />(Interactive output not available on ' +\n",
       "                        'static notebook viewer services like nbviewer.)';\n",
       "    } else if (res.status === 409) {\n",
       "        div.innerHTML = 'Visualization no longer in scope. Re-run this cell' +\n",
       "                        ' to see the visualization.';\n",
       "    } else if (res.ok) {\n",
       "        url = res.url;\n",
       "        div.innerHTML = '<iframe src=\\'' + url + '\\' style=\\'' +\n",
       "                        'width: 100%; height: 700px; border: 0;\\'>' +\n",
       "                        '</iframe><hr />Open in a: <a href=\\'' + url + '\\'' +\n",
       "                        ' target=\\'_blank\\'>new window</a>'\n",
       "    } else {\n",
       "        div.innerHTML = 'Something has gone wrong. Check notebook server for' +\n",
       "                        ' errors.';\n",
       "    }\n",
       "});\n",
       "})(this.parentElement, '/qiime2/redirect?location=/tmp/qiime2-archive-u1slua6g')\" src=\"data:image/gif;base64,R0lGODlhAQABAIAAAP///wAAACH5BAEAAAAALAAAAAABAAEAAAICRAEAOw==\" /></div>"
      ],
      "text/plain": [
       "<visualization: Visualization uuid: 8b63669c-95c8-4083-a07a-5d3f3af515d8>"
      ]
     },
     "execution_count": 71,
     "metadata": {},
     "output_type": "execute_result"
    }
   ],
   "source": [
    "Visualization.load(vis_dir + \"taxa_barplot_reg_of_int.qzv\")"
   ]
  },
  {
   "cell_type": "markdown",
   "id": "10325761-2c47-4326-87ff-3992d372bcb2",
   "metadata": {},
   "source": [
    "# 9. ANCOM analysis\n",
    "We conduct a differential abundance testing in order to see if certain ASVs differ in abundance with respect to ostium sinus closure.   \n",
    "It was not a straightforward operation, as we should have filtered `null` values from metadata and then remove features with `<10` counts in order to make computational time reasonable.\n",
    "The issue resulted in improvement of `ANCOM` behaviour described in [GitHub issue](https://github.com/qiime2/q2-composition/issues/90)."
   ]
  },
  {
   "cell_type": "code",
   "execution_count": 51,
   "id": "e6661da2-5790-450b-ba74-4a1690d504db",
   "metadata": {},
   "outputs": [],
   "source": [
    "table = Artifact.load(art_dir+\"dada2_table_rar_20504.qza\")\n",
    "metadata_col = \"maxillary_ostium_size\""
   ]
  },
  {
   "cell_type": "code",
   "execution_count": 52,
   "id": "ba94ee58-fb0c-4c1c-878e-9d5316b42de6",
   "metadata": {},
   "outputs": [],
   "source": [
    "ancom_meta = sample_metadata.get_column(metadata_col)"
   ]
  },
  {
   "cell_type": "code",
   "execution_count": 53,
   "id": "d61f03df-6e6b-4cbf-994e-7fc22434e003",
   "metadata": {},
   "outputs": [],
   "source": [
    "ancom_table = feature_table.methods.filter_samples(table=table,\n",
    "                                                    metadata=sample_metadata, \n",
    "                                                    where=f\"[{metadata_col}] NOT NULL\",\n",
    "                                                   ).filtered_table\n",
    "\n",
    "ancom_table = taxa.methods.collapse(table=ancom_table,\n",
    "                                    taxonomy=Artifact.load(art_dir + \"tax-reg-of-int.qza\"),\n",
    "                                    level=7).collapsed_table\n",
    "\n",
    "ancom_table = feature_table.methods.filter_features(table=ancom_table,\n",
    "                                                    min_frequency=10).filtered_table\n",
    "\n",
    "ancom_table = composition.methods.add_pseudocount(table=ancom_table).composition_table"
   ]
  },
  {
   "cell_type": "code",
   "execution_count": 54,
   "id": "916d0b7f-7de1-4362-8c90-de193e1b7027",
   "metadata": {},
   "outputs": [
    {
     "name": "stderr",
     "output_type": "stream",
     "text": [
      "/home/MCB/vbezshapkin/miniconda3/envs/qiime2/lib/python3.8/site-packages/scipy/stats/_stats_py.py:3659: F_onewayConstantInputWarning: Each of the input arrays is constant;the F statistic is not defined or infinite\n",
      "  warnings.warn(F_onewayConstantInputWarning())\n"
     ]
    },
    {
     "data": {
      "text/plain": [
       "'./visualizations/ancom_maxillary_ostium_size.qzv'"
      ]
     },
     "execution_count": 54,
     "metadata": {},
     "output_type": "execute_result"
    }
   ],
   "source": [
    "composition.visualizers.ancom(table = ancom_table, \n",
    "                              metadata = ancom_meta, \n",
    "                              transform_function = \"clr\",\n",
    "                              ).visualization.save(vis_dir+\"ancom_\" + metadata_col + \".qzv\")"
   ]
  },
  {
   "cell_type": "code",
   "execution_count": 55,
   "id": "1f3088da-7be5-4f69-a36f-ae191b8b1ca9",
   "metadata": {},
   "outputs": [
    {
     "data": {
      "text/html": [
       "<div><img onload=\"(function(div, url){\n",
       "if (typeof require !== 'undefined') {\n",
       "    var baseURL = require.toUrl('').split('/').slice(0, -2).join('/');\n",
       "} else {\n",
       "    var baseURL = JSON.parse(\n",
       "        document.getElementById('jupyter-config-data').innerHTML\n",
       "    ).baseUrl.slice(0, -1);\n",
       "}\n",
       "url = baseURL + url;\n",
       "fetch(url).then(function(res) {\n",
       "    if (res.status === 404) {\n",
       "        div.innerHTML = 'Install QIIME 2 Jupyter extension with:<br />' +\n",
       "                        '<code>jupyter serverextension enable --py qiime2' +\n",
       "                        ' --sys-prefix</code><br />then restart your server.' +\n",
       "                        '<br /><br />(Interactive output not available on ' +\n",
       "                        'static notebook viewer services like nbviewer.)';\n",
       "    } else if (res.status === 409) {\n",
       "        div.innerHTML = 'Visualization no longer in scope. Re-run this cell' +\n",
       "                        ' to see the visualization.';\n",
       "    } else if (res.ok) {\n",
       "        url = res.url;\n",
       "        div.innerHTML = '<iframe src=\\'' + url + '\\' style=\\'' +\n",
       "                        'width: 100%; height: 700px; border: 0;\\'>' +\n",
       "                        '</iframe><hr />Open in a: <a href=\\'' + url + '\\'' +\n",
       "                        ' target=\\'_blank\\'>new window</a>'\n",
       "    } else {\n",
       "        div.innerHTML = 'Something has gone wrong. Check notebook server for' +\n",
       "                        ' errors.';\n",
       "    }\n",
       "});\n",
       "})(this.parentElement, '/qiime2/redirect?location=/tmp/qiime2-archive-pt50udje')\" src=\"data:image/gif;base64,R0lGODlhAQABAIAAAP///wAAACH5BAEAAAAALAAAAAABAAEAAAICRAEAOw==\" /></div>"
      ],
      "text/plain": [
       "<visualization: Visualization uuid: 3544899e-6d2a-42cc-9ca3-0883a4400053>"
      ]
     },
     "execution_count": 55,
     "metadata": {},
     "output_type": "execute_result"
    }
   ],
   "source": [
    "Visualization.load(vis_dir+\"ancom_\" + metadata_col + \".qzv\")"
   ]
  },
  {
   "cell_type": "markdown",
   "id": "9b52df66-9a5a-4a11-ab7f-cac4900213d6",
   "metadata": {},
   "source": [
    "However, no significantly different ASVs were found. "
   ]
  },
  {
   "cell_type": "code",
   "execution_count": 4,
   "id": "160ec38d-5568-4382-87da-146130691aa2",
   "metadata": {},
   "outputs": [],
   "source": [
    "frequency_taxonomy = taxa.methods.collapse(table=Artifact.load(art_dir + \"dada2_table_rar_20504.qza\"),\n",
    "                                           taxonomy=Artifact.load(art_dir + \"tax-reg-of-int.qza\"),\n",
    "                                           level=7)  # Species level"
   ]
  },
  {
   "cell_type": "code",
   "execution_count": 5,
   "id": "d65d8d13-11b9-4cc5-8473-87bfbb303dda",
   "metadata": {},
   "outputs": [
    {
     "data": {
      "text/plain": [
       "'./artifacts/collapsed_table.qza'"
      ]
     },
     "execution_count": 5,
     "metadata": {},
     "output_type": "execute_result"
    }
   ],
   "source": [
    "frequency_taxonomy.collapsed_table.save(art_dir+'collapsed_table.qza')"
   ]
  },
  {
   "cell_type": "code",
   "execution_count": 18,
   "id": "f88edf76-7c12-4964-842d-6040ed35e36e",
   "metadata": {},
   "outputs": [
    {
     "name": "stdout",
     "output_type": "stream",
     "text": [
      "qiime2: 2022.2.0\n",
      "skbio : 0.5.6\n",
      "numpy : 1.22.3\n",
      "pandas: 1.2.5\n",
      "\n"
     ]
    }
   ],
   "source": [
    "watermark -iv"
   ]
  }
 ],
 "metadata": {
  "kernelspec": {
   "display_name": "qiime2",
   "language": "python",
   "name": "qiime2"
  },
  "language_info": {
   "codemirror_mode": {
    "name": "ipython",
    "version": 3
   },
   "file_extension": ".py",
   "mimetype": "text/x-python",
   "name": "python",
   "nbconvert_exporter": "python",
   "pygments_lexer": "ipython3",
   "version": "3.8.13"
  }
 },
 "nbformat": 4,
 "nbformat_minor": 5
}
